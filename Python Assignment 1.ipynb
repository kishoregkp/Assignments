{
 "cells": [
  {
   "cell_type": "code",
   "execution_count": null,
   "metadata": {},
   "outputs": [],
   "source": [
    "#1- Write a program which will find all such numbers which are divisible by 7 but are not a multiple of 5, \n",
    " #between 2000 and 3200 (both included). The numbers obtained should be printed in a comma-separated sequence on a single line.\n",
    "for i in range(2000,3201):\n",
    "    if i%7==0 and i%5!=0:\n",
    "        print(i,end=',')"
   ]
  },
  {
   "cell_type": "code",
   "execution_count": null,
   "metadata": {},
   "outputs": [],
   "source": [
    "#2- Write a Python program to accept the user's first and last name and then getting them printed in \n",
    "#the the reverse order with a space between first name and last name.\n",
    "\n",
    "First_name=input(\"Enter user's first Name : \")\n",
    "Last_name=input(\"Enter user's Last Name : \")\n",
    "print('Printing the name in reverse order :- ')\n",
    "print(f\"Reversed Name :  {First_name[::-1]} {Last_name[::-1]}\")\n",
    "print('Done')"
   ]
  },
  {
   "cell_type": "code",
   "execution_count": null,
   "metadata": {},
   "outputs": [],
   "source": [
    "#3- Write a Python program to find the volume of a sphere with diameter 12 cm Formula: V=4/3 * π * r3\n",
    "from math import pi\n",
    "diameter=12\n",
    "r=diameter/2\n",
    "Volume=4/3*pi*(6)**3\n",
    "print('Volume of a sphere : ',round(Volume,2))"
   ]
  }
 ],
 "metadata": {
  "kernelspec": {
   "display_name": "Python 3",
   "language": "python",
   "name": "python3"
  },
  "language_info": {
   "codemirror_mode": {
    "name": "ipython",
    "version": 3
   },
   "file_extension": ".py",
   "mimetype": "text/x-python",
   "name": "python",
   "nbconvert_exporter": "python",
   "pygments_lexer": "ipython3",
   "version": "3.8.3"
  }
 },
 "nbformat": 4,
 "nbformat_minor": 4
}
